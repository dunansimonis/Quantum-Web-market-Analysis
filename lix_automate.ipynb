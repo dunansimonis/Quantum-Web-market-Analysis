{
 "cells": [
  {
   "cell_type": "code",
   "execution_count": 1,
   "metadata": {},
   "outputs": [
    {
     "name": "stdout",
     "output_type": "stream",
     "text": [
      "Point(x=406, y=151)\n",
      "Point(x=406, y=151)\n",
      "Point(x=406, y=151)\n",
      "Point(x=406, y=151)\n",
      "Point(x=406, y=151)\n",
      "Point(x=406, y=151)\n",
      "Point(x=406, y=151)\n",
      "Point(x=406, y=151)\n",
      "Point(x=406, y=151)\n",
      "Point(x=406, y=151)\n",
      "Point(x=406, y=151)\n",
      "Point(x=406, y=151)\n",
      "Point(x=406, y=151)\n",
      "Point(x=406, y=151)\n",
      "Point(x=406, y=151)\n"
     ]
    }
   ],
   "source": [
    "import pyautogui\n",
    "import time\n",
    "\n",
    "\n",
    "# Get the current mouse cursor position\n",
    "for i in range(15): \n",
    "    time.sleep(1)\n",
    "    current_position = pyautogui.position()\n",
    "    print(current_position)\n",
    "\n",
    "\n"
   ]
  },
  {
   "cell_type": "code",
   "execution_count": 1,
   "metadata": {},
   "outputs": [
    {
     "name": "stdout",
     "output_type": "stream",
     "text": [
      "LIX_100723.xlsx\n"
     ]
    }
   ],
   "source": [
    "import pyautogui\n",
    "import time\n",
    "import keyboard\n",
    "# Define the coordinates where you want to click\n",
    "coord_dict={'Chrome': (73,177),\n",
    "            'bigger_screen': (1507,46),\n",
    "            'doums': (600,616),\n",
    "            'quantum_shortcut': (1022,769),\n",
    "            'lix_button': (1725,67),\n",
    "            'email': (804,620),\n",
    "            'password': (757,721),\n",
    "            'login_button': (691,881),\n",
    "      'close_lixpage': (587,24),\n",
    "      'profiles' : (417,318),\n",
    "      'lix_it' : (957,280),\n",
    "      'download': (967,310),\n",
    "      'spot_download': (1000,500),\n",
    "      'save': (1000,500),\n",
    "      'vs_code': (73,177),\n",
    "      'file_name': (73,177),\n",
    "      'run_code': (73,177),\n",
    "      }\n",
    "\n",
    "coord_dict={'Chrome': (56,414),\n",
    "            'bigger_screen': (1237,44),\n",
    "            'quantum_shortcut': (818,632),\n",
    "            'lix_button': (1720,69),\n",
    "            'email': (1003,582),\n",
    "            'password': (963,698),\n",
    "            'login_button': (707,840),\n",
    "      'close_lixpage': (585,26),\n",
    "      'profiles' : (422,277),\n",
    "      'lix_it' : (921,232),\n",
    "      'download': (967,310),\n",
    "      'spot_download': (1000,500),\n",
    "      'save': (1000,500),\n",
    "      'vs_code': (73,177),\n",
    "      'file_name': (73,177),\n",
    "      'run_code': (73,177),\n",
    "      }\n",
    "\n",
    "url_to_scrape='https://www.linkedin.com/jobs/search/?currentJobId=3654787465&f_TPR=r86400&geoId=92000000&keywords=quantum&location=Worldwide&refresh=true'\n",
    "from datetime import datetime\n",
    "\n",
    "def generate_name():\n",
    "    date_string = datetime.now().strftime(\"%d%m%y\")\n",
    "    return \"LIX_\" + date_string + \".xlsx\"\n",
    "\n",
    "print(generate_name())"
   ]
  },
  {
   "cell_type": "code",
   "execution_count": 4,
   "metadata": {},
   "outputs": [
    {
     "name": "stdout",
     "output_type": "stream",
     "text": [
      "Clicked on (1725, 67)\n",
      "Clicked on (417, 318)\n",
      "Clicked on (957, 280)\n",
      "0\n",
      "1\n",
      "2\n",
      "3\n",
      "4\n",
      "5\n",
      "6\n",
      "7\n",
      "8\n",
      "9\n",
      "Clicked on (967, 310)\n"
     ]
    }
   ],
   "source": [
    "tempo=2\n",
    "def click_on_coord(coord:str, temp: int =tempo ,text:bool=False ,string:str='',clicks:int=1):\n",
    "    \"\"\" \n",
    "    Click on the coordinates given in the coord_dict, input text if text=True\"\"\"\n",
    "    coord=coord_dict[coord]\n",
    "    # pyautogui.moveTo(coord)\n",
    "    pyautogui.click(coord,clicks=clicks)\n",
    "    time.sleep(tempo)\n",
    "    if text:\n",
    "        if '@' in string:\n",
    "            print('found @')\n",
    "            words=string.split('@')\n",
    "            for i in range(10):\n",
    "                keyboard.send('backspace')\n",
    "            keyboard.write(words[0])\n",
    "            keyboard.write('@')\n",
    "            keyboard.write(words[1])\n",
    "            time.sleep(tempo)\n",
    "        else:\n",
    "            keyboard.write(string)\n",
    "            time.sleep(tempo)\n",
    "    print(f'Clicked on {coord}')\n",
    "\n",
    "\n",
    "def lix_automate():\n",
    "    time.sleep(5)\n",
    "    click_on_coord('Chrome',clicks=2)\n",
    "    click_on_coord('doums')\n",
    "    click_on_coord('bigger_screen')\n",
    "    click_on_coord('quantum_shortcut')\n",
    "    click_on_coord('lix_button')\n",
    "    click_on_coord('email',text=True,string='QuantumTechJobs@gmail.com')\n",
    "    click_on_coord('password',text=True,string='Sakurai1234')\n",
    "    click_on_coord('login_button')\n",
    "    click_on_coord('close_lixpage')\n",
    "    click_on_coord('lix_button')\n",
    "    click_on_coord('profiles',text=True,string='1000',clicks=2)\n",
    "    time.sleep(5)\n",
    "    click_on_coord('lix_it',clicks=2)\n",
    "    for i in range(10):\n",
    "        time.sleep(10)\n",
    "        print(i)\n",
    "    click_on_coord('download')\n",
    "    file_name=generate_name()\n",
    "    click_on_coord('spot_download',text=True,string=file_name)\n",
    "    click_on_coord('save')\n",
    "    click_on_coord('vs_code')\n",
    "    click_on_coord('file_name',text=True,string=file_name)\n",
    "    click_on_coord('run_code')\n",
    "\n",
    "    print('LIX extracted Done !, Please ')    \n",
    "\n",
    "    # time.sleep(50)\n",
    "    # click_on_coord('download')\n",
    "\n",
    "# lix_automate()"
   ]
  }
 ],
 "metadata": {
  "kernelspec": {
   "display_name": "Python 3",
   "language": "python",
   "name": "python3"
  },
  "language_info": {
   "codemirror_mode": {
    "name": "ipython",
    "version": 3
   },
   "file_extension": ".py",
   "mimetype": "text/x-python",
   "name": "python",
   "nbconvert_exporter": "python",
   "pygments_lexer": "ipython3",
   "version": "3.10.11"
  },
  "orig_nbformat": 4
 },
 "nbformat": 4,
 "nbformat_minor": 2
}
